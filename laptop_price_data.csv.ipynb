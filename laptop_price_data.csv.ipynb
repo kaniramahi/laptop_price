{
 "cells": [
  {
   "cell_type": "code",
   "execution_count": 18,
   "id": "64746a44",
   "metadata": {},
   "outputs": [],
   "source": [
    "import numpy as np # mathemtaical computation\n",
    "# numpy is aliased as np\n",
    "import pandas as pd # data preprocessing\n",
    "# pandas is aliased as pd\n",
    "import matplotlib.pyplot as plt # visualization\n",
    "# pyplot is aliased as plt\n",
    "import seaborn as sns  # visualization\n",
    "# seaborn is aliased as sns"
   ]
  },
  {
   "cell_type": "code",
   "execution_count": 19,
   "id": "759ea303",
   "metadata": {},
   "outputs": [],
   "source": [
    "#importent library's \n",
    "# Major Import\n",
    "import sklearn\n",
    "from sklearn.metrics import classification_report\n",
    "from sklearn.model_selection import train_test_split\n",
    "from imblearn.over_sampling import RandomOverSampler\n",
    "from sklearn.ensemble import RandomForestClassifier\n",
    "from sklearn.metrics import accuracy_score\n",
    "from sklearn.metrics import confusion_matrix, ConfusionMatrixDisplay"
   ]
  },
  {
   "cell_type": "code",
   "execution_count": 20,
   "id": "0ed61806",
   "metadata": {},
   "outputs": [
    {
     "data": {
      "text/html": [
       "<div>\n",
       "<style scoped>\n",
       "    .dataframe tbody tr th:only-of-type {\n",
       "        vertical-align: middle;\n",
       "    }\n",
       "\n",
       "    .dataframe tbody tr th {\n",
       "        vertical-align: top;\n",
       "    }\n",
       "\n",
       "    .dataframe thead th {\n",
       "        text-align: right;\n",
       "    }\n",
       "</style>\n",
       "<table border=\"1\" class=\"dataframe\">\n",
       "  <thead>\n",
       "    <tr style=\"text-align: right;\">\n",
       "      <th></th>\n",
       "      <th>Unnamed: 0</th>\n",
       "      <th>Company</th>\n",
       "      <th>TypeName</th>\n",
       "      <th>Ram</th>\n",
       "      <th>Weight</th>\n",
       "      <th>Price</th>\n",
       "      <th>Touchscreen</th>\n",
       "      <th>Ips</th>\n",
       "      <th>Cpu brand</th>\n",
       "      <th>HDD</th>\n",
       "      <th>SSD</th>\n",
       "      <th>Gpu brand</th>\n",
       "      <th>os</th>\n",
       "    </tr>\n",
       "  </thead>\n",
       "  <tbody>\n",
       "    <tr>\n",
       "      <th>0</th>\n",
       "      <td>0</td>\n",
       "      <td>Apple</td>\n",
       "      <td>Ultrabook</td>\n",
       "      <td>8</td>\n",
       "      <td>1.37</td>\n",
       "      <td>71378.6832</td>\n",
       "      <td>0</td>\n",
       "      <td>1</td>\n",
       "      <td>Intel Core i5</td>\n",
       "      <td>0</td>\n",
       "      <td>128</td>\n",
       "      <td>Intel</td>\n",
       "      <td>Mac</td>\n",
       "    </tr>\n",
       "    <tr>\n",
       "      <th>1</th>\n",
       "      <td>1</td>\n",
       "      <td>Apple</td>\n",
       "      <td>Ultrabook</td>\n",
       "      <td>8</td>\n",
       "      <td>1.34</td>\n",
       "      <td>47895.5232</td>\n",
       "      <td>0</td>\n",
       "      <td>0</td>\n",
       "      <td>Intel Core i5</td>\n",
       "      <td>0</td>\n",
       "      <td>0</td>\n",
       "      <td>Intel</td>\n",
       "      <td>Mac</td>\n",
       "    </tr>\n",
       "    <tr>\n",
       "      <th>2</th>\n",
       "      <td>2</td>\n",
       "      <td>HP</td>\n",
       "      <td>Notebook</td>\n",
       "      <td>8</td>\n",
       "      <td>1.86</td>\n",
       "      <td>30636.0000</td>\n",
       "      <td>0</td>\n",
       "      <td>0</td>\n",
       "      <td>Intel Core i5</td>\n",
       "      <td>0</td>\n",
       "      <td>256</td>\n",
       "      <td>Intel</td>\n",
       "      <td>Others/No OS/Linux</td>\n",
       "    </tr>\n",
       "    <tr>\n",
       "      <th>3</th>\n",
       "      <td>3</td>\n",
       "      <td>Apple</td>\n",
       "      <td>Ultrabook</td>\n",
       "      <td>16</td>\n",
       "      <td>1.83</td>\n",
       "      <td>135195.3360</td>\n",
       "      <td>0</td>\n",
       "      <td>1</td>\n",
       "      <td>Intel Core i7</td>\n",
       "      <td>0</td>\n",
       "      <td>512</td>\n",
       "      <td>AMD</td>\n",
       "      <td>Mac</td>\n",
       "    </tr>\n",
       "    <tr>\n",
       "      <th>4</th>\n",
       "      <td>4</td>\n",
       "      <td>Apple</td>\n",
       "      <td>Ultrabook</td>\n",
       "      <td>8</td>\n",
       "      <td>1.37</td>\n",
       "      <td>96095.8080</td>\n",
       "      <td>0</td>\n",
       "      <td>1</td>\n",
       "      <td>Intel Core i5</td>\n",
       "      <td>0</td>\n",
       "      <td>256</td>\n",
       "      <td>Intel</td>\n",
       "      <td>Mac</td>\n",
       "    </tr>\n",
       "  </tbody>\n",
       "</table>\n",
       "</div>"
      ],
      "text/plain": [
       "   Unnamed: 0 Company   TypeName  Ram  Weight        Price  Touchscreen  Ips  \\\n",
       "0           0   Apple  Ultrabook    8    1.37   71378.6832            0    1   \n",
       "1           1   Apple  Ultrabook    8    1.34   47895.5232            0    0   \n",
       "2           2      HP   Notebook    8    1.86   30636.0000            0    0   \n",
       "3           3   Apple  Ultrabook   16    1.83  135195.3360            0    1   \n",
       "4           4   Apple  Ultrabook    8    1.37   96095.8080            0    1   \n",
       "\n",
       "       Cpu brand  HDD  SSD Gpu brand                  os  \n",
       "0  Intel Core i5    0  128     Intel                 Mac  \n",
       "1  Intel Core i5    0    0     Intel                 Mac  \n",
       "2  Intel Core i5    0  256     Intel  Others/No OS/Linux  \n",
       "3  Intel Core i7    0  512       AMD                 Mac  \n",
       "4  Intel Core i5    0  256     Intel                 Mac  "
      ]
     },
     "execution_count": 20,
     "metadata": {},
     "output_type": "execute_result"
    }
   ],
   "source": [
    "df=pd.read_csv('laptop_price_data.csv')\n",
    "df.head()"
   ]
  },
  {
   "cell_type": "code",
   "execution_count": 7,
   "id": "5f093cf1",
   "metadata": {},
   "outputs": [
    {
     "name": "stdout",
     "output_type": "stream",
     "text": [
      "<class 'pandas.core.frame.DataFrame'>\n",
      "RangeIndex: 1302 entries, 0 to 1301\n",
      "Data columns (total 13 columns):\n",
      " #   Column       Non-Null Count  Dtype  \n",
      "---  ------       --------------  -----  \n",
      " 0   Unnamed: 0   1302 non-null   int64  \n",
      " 1   Company      1302 non-null   object \n",
      " 2   TypeName     1302 non-null   object \n",
      " 3   Ram          1302 non-null   int64  \n",
      " 4   Weight       1302 non-null   float64\n",
      " 5   Price        1302 non-null   float64\n",
      " 6   Touchscreen  1302 non-null   int64  \n",
      " 7   Ips          1302 non-null   int64  \n",
      " 8   Cpu brand    1302 non-null   object \n",
      " 9   HDD          1302 non-null   int64  \n",
      " 10  SSD          1302 non-null   int64  \n",
      " 11  Gpu brand    1302 non-null   object \n",
      " 12  os           1302 non-null   object \n",
      "dtypes: float64(2), int64(6), object(5)\n",
      "memory usage: 132.4+ KB\n"
     ]
    }
   ],
   "source": [
    "df.info()"
   ]
  },
  {
   "cell_type": "code",
   "execution_count": 8,
   "id": "b9c4bed9",
   "metadata": {},
   "outputs": [
    {
     "data": {
      "text/plain": [
       "(1302, 13)"
      ]
     },
     "execution_count": 8,
     "metadata": {},
     "output_type": "execute_result"
    }
   ],
   "source": [
    "df.shape"
   ]
  },
  {
   "cell_type": "code",
   "execution_count": 9,
   "id": "7691c150",
   "metadata": {
    "scrolled": true
   },
   "outputs": [
    {
     "data": {
      "text/plain": [
       "Index(['Unnamed: 0', 'Company', 'TypeName', 'Ram', 'Weight', 'Price',\n",
       "       'Touchscreen', 'Ips', 'Cpu brand', 'HDD', 'SSD', 'Gpu brand', 'os'],\n",
       "      dtype='object')"
      ]
     },
     "execution_count": 9,
     "metadata": {},
     "output_type": "execute_result"
    }
   ],
   "source": [
    "df.columns"
   ]
  },
  {
   "cell_type": "code",
   "execution_count": 25,
   "id": "c49e52b8",
   "metadata": {},
   "outputs": [
    {
     "data": {
      "text/plain": [
       "0"
      ]
     },
     "execution_count": 25,
     "metadata": {},
     "output_type": "execute_result"
    }
   ],
   "source": [
    "df.duplicated().sum()"
   ]
  },
  {
   "cell_type": "code",
   "execution_count": 10,
   "id": "5397d225",
   "metadata": {},
   "outputs": [
    {
     "data": {
      "text/plain": [
       "Unnamed: 0     0\n",
       "Company        0\n",
       "TypeName       0\n",
       "Ram            0\n",
       "Weight         0\n",
       "Price          0\n",
       "Touchscreen    0\n",
       "Ips            0\n",
       "Cpu brand      0\n",
       "HDD            0\n",
       "SSD            0\n",
       "Gpu brand      0\n",
       "os             0\n",
       "dtype: int64"
      ]
     },
     "execution_count": 10,
     "metadata": {},
     "output_type": "execute_result"
    }
   ],
   "source": [
    "df.isnull().sum()"
   ]
  },
  {
   "cell_type": "code",
   "execution_count": 22,
   "id": "081e2343",
   "metadata": {},
   "outputs": [
    {
     "data": {
      "text/plain": [
       "Unnamed: 0       int64\n",
       "Company         object\n",
       "TypeName        object\n",
       "Ram              int64\n",
       "Weight         float64\n",
       "Price          float64\n",
       "Touchscreen      int64\n",
       "Ips              int64\n",
       "Cpu brand       object\n",
       "HDD              int64\n",
       "SSD              int64\n",
       "Gpu brand       object\n",
       "os              object\n",
       "dtype: object"
      ]
     },
     "execution_count": 22,
     "metadata": {},
     "output_type": "execute_result"
    }
   ],
   "source": [
    "df.dtypes"
   ]
  },
  {
   "cell_type": "code",
   "execution_count": 28,
   "id": "aca61714",
   "metadata": {},
   "outputs": [
    {
     "data": {
      "text/plain": [
       "1302"
      ]
     },
     "execution_count": 28,
     "metadata": {},
     "output_type": "execute_result"
    }
   ],
   "source": [
    "df['Unnamed: 0'].nunique()"
   ]
  },
  {
   "cell_type": "code",
   "execution_count": 30,
   "id": "13b22a7a",
   "metadata": {},
   "outputs": [
    {
     "data": {
      "text/plain": [
       "Company         object\n",
       "TypeName        object\n",
       "Ram              int64\n",
       "Weight         float64\n",
       "Price          float64\n",
       "Touchscreen      int64\n",
       "Ips              int64\n",
       "Cpu brand       object\n",
       "HDD              int64\n",
       "SSD              int64\n",
       "Gpu brand       object\n",
       "os              object\n",
       "dtype: object"
      ]
     },
     "execution_count": 30,
     "metadata": {},
     "output_type": "execute_result"
    }
   ],
   "source": [
    "df.dtypes"
   ]
  },
  {
   "cell_type": "code",
   "execution_count": 29,
   "id": "e583cce0",
   "metadata": {},
   "outputs": [
    {
     "data": {
      "text/plain": [
       "Index(['Company', 'TypeName', 'Ram', 'Weight', 'Price', 'Touchscreen', 'Ips',\n",
       "       'Cpu brand', 'HDD', 'SSD', 'Gpu brand', 'os'],\n",
       "      dtype='object')"
      ]
     },
     "execution_count": 29,
     "metadata": {},
     "output_type": "execute_result"
    }
   ],
   "source": [
    "df.drop('Unnamed: 0',axis=1,inplace=True)\n",
    "df.columns"
   ]
  },
  {
   "cell_type": "code",
   "execution_count": 31,
   "id": "d3b52472",
   "metadata": {},
   "outputs": [
    {
     "data": {
      "text/plain": [
       "Index(['Company', 'TypeName', 'Ram', 'Weight', 'Price', 'Touchscreen', 'Ips',\n",
       "       'Cpu brand', 'HDD', 'SSD', 'Gpu brand', 'os'],\n",
       "      dtype='object')"
      ]
     },
     "execution_count": 31,
     "metadata": {},
     "output_type": "execute_result"
    }
   ],
   "source": [
    "df.columns"
   ]
  },
  {
   "cell_type": "code",
   "execution_count": 32,
   "id": "cb9ad366",
   "metadata": {},
   "outputs": [
    {
     "data": {
      "image/png": "[encoded data removed]",
      "text/plain": [
       "<Figure size 432x288 with 1 Axes>"
      ]
     },
     "metadata": {
      "needs_background": "light"
     },
     "output_type": "display_data"
    }
   ],
   "source": [
    "sns.countplot(y=df['Company'],\n",
    "              order=df['Company'].value_counts().sort_values(ascending=False)[:7].index)\n",
    "plt.title('Top 7 laptop brands')\n",
    "plt.show()"
   ]
  },
  {
   "cell_type": "code",
   "execution_count": 40,
   "id": "273db721",
   "metadata": {},
   "outputs": [
    {
     "data": {
      "image/png": "[encoded data removed]",
      "text/plain": [
       "<Figure size 432x288 with 1 Axes>"
      ]
     },
     "metadata": {
      "needs_background": "light"
     },
     "output_type": "display_data"
    }
   ],
   "source": [
    "sns.countplot(y=df['TypeName'],\n",
    "             order=df['TypeName'].value_counts().sort_values(ascending=False)[:6].index)\n",
    "plt.title('top 6 laptop types')\n",
    "plt.show()"
   ]
  },
  {
   "cell_type": "code",
   "execution_count": 49,
   "id": "96b1a1a4",
   "metadata": {},
   "outputs": [
    {
     "data": {
      "image/png": "[encoded data removed]",
      "text/plain": [
       "<Figure size 432x288 with 1 Axes>"
      ]
     },
     "metadata": {
      "needs_background": "light"
     },
     "output_type": "display_data"
    }
   ],
   "source": [
    "sns.countplot(y=df['Gpu brand'],\n",
    "              order=df['Gpu brand'].value_counts().sort_values(ascending=False).index)\n",
    "plt.title('top 4 GPUs used in laptop')\n",
    "plt.show()"
   ]
  },
  {
   "cell_type": "code",
   "execution_count": 50,
   "id": "f6c6621b",
   "metadata": {},
   "outputs": [
    {
     "data": {
      "text/plain": [
       "Index(['Company', 'TypeName', 'Ram', 'Weight', 'Price', 'Touchscreen', 'Ips',\n",
       "       'Cpu brand', 'HDD', 'SSD', 'Gpu brand', 'os'],\n",
       "      dtype='object')"
      ]
     },
     "execution_count": 50,
     "metadata": {},
     "output_type": "execute_result"
    }
   ],
   "source": [
    " df.columns"
   ]
  },
  {
   "cell_type": "code",
   "execution_count": 51,
   "id": "ad7a46fd",
   "metadata": {},
   "outputs": [
    {
     "data": {
      "image/png": "[encoded data removed]",
      "text/plain": [
       "<Figure size 432x288 with 1 Axes>"
      ]
     },
     "metadata": {
      "needs_background": "light"
     },
     "output_type": "display_data"
    }
   ],
   "source": [
    "sns.boxplot(y=df['Cpu brand'],x=df['Price'])\n",
    "plt.show()"
   ]
  },
  {
   "cell_type": "markdown",
   "id": "95796435",
   "metadata": {},
   "source": [
    "# Box for different GPU"
   ]
  },
  {
   "cell_type": "code",
   "execution_count": 52,
   "id": "5236021f",
   "metadata": {},
   "outputs": [
    {
     "data": {
      "image/png": "[encoded data removed]",
      "text/plain": [
       "<Figure size 432x288 with 1 Axes>"
      ]
     },
     "metadata": {
      "needs_background": "light"
     },
     "output_type": "display_data"
    }
   ],
   "source": [
    "sns.boxplot(y=df['Gpu brand'],x=df['Price'])\n",
    "plt.show()"
   ]
  },
  {
   "cell_type": "markdown",
   "id": "0e6b7fb5",
   "metadata": {},
   "source": [
    "#### Boxplot for Company based on Price"
   ]
  },
  {
   "cell_type": "code",
   "execution_count": 56,
   "id": "faca7824",
   "metadata": {},
   "outputs": [
    {
     "data": {
      "image/png": "[encoded data removed]",
      "text/plain": [
       "<Figure size 432x288 with 1 Axes>"
      ]
     },
     "metadata": {
      "needs_background": "light"
     },
     "output_type": "display_data"
    }
   ],
   "source": [
    "sns.boxplot(y=df['Company'],x=df['Price'])\n",
    "plt.show()"
   ]
  },
  {
   "cell_type": "code",
   "execution_count": 57,
   "id": "0df54522",
   "metadata": {},
   "outputs": [],
   "source": [
    "###Distribution Plot for Price"
   ]
  },
  {
   "cell_type": "code",
   "execution_count": 58,
   "id": "83974c79",
   "metadata": {},
   "outputs": [
    {
     "data": {
      "image/png": "[encoded data removed]",
      "text/plain": [
       "<Figure size 360x360 with 1 Axes>"
      ]
     },
     "metadata": {
      "needs_background": "light"
     },
     "output_type": "display_data"
    }
   ],
   "source": [
    "sns.displot(df[\"Price\"])\n",
    "plt.show()"
   ]
  },
  {
   "cell_type": "code",
   "execution_count": 59,
   "id": "f13a659a",
   "metadata": {},
   "outputs": [],
   "source": [
    "###correlation"
   ]
  },
  {
   "cell_type": "code",
   "execution_count": 64,
   "id": "74a44820",
   "metadata": {},
   "outputs": [
    {
     "data": {
      "image/png": "[encoded data removed]",
      "text/plain": [
       "<Figure size 432x288 with 2 Axes>"
      ]
     },
     "metadata": {
      "needs_background": "light"
     },
     "output_type": "display_data"
    }
   ],
   "source": [
    "corr =  df.corr()\n",
    "\n",
    "\n",
    "sns.heatmap(corr,annot=True,cmap='RdBu')\n",
    "plt.show()"
   ]
  },
  {
   "cell_type": "code",
   "execution_count": 67,
   "id": "8d89be36",
   "metadata": {},
   "outputs": [
    {
     "data": {
      "image/png": "[encoded data removed]",
      "text/plain": [
       "<Figure size 432x288 with 2 Axes>"
      ]
     },
     "metadata": {
      "needs_background": "light"
     },
     "output_type": "display_data"
    }
   ],
   "source": [
    "sns.heatmap(corr[abs(corr)>0.7],annot=True,cmap='RdBu')\n",
    "plt.show()"
   ]
  },
  {
   "cell_type": "code",
   "execution_count": null,
   "id": "73eda597",
   "metadata": {},
   "outputs": [],
   "source": [
    "###Outliers"
   ]
  },
  {
   "cell_type": "code",
   "execution_count": 68,
   "id": "e499a4f5",
   "metadata": {},
   "outputs": [
    {
     "data": {
      "text/html": [
       "<div>\n",
       "<style scoped>\n",
       "    .dataframe tbody tr th:only-of-type {\n",
       "        vertical-align: middle;\n",
       "    }\n",
       "\n",
       "    .dataframe tbody tr th {\n",
       "        vertical-align: top;\n",
       "    }\n",
       "\n",
       "    .dataframe thead th {\n",
       "        text-align: right;\n",
       "    }\n",
       "</style>\n",
       "<table border=\"1\" class=\"dataframe\">\n",
       "  <thead>\n",
       "    <tr style=\"text-align: right;\">\n",
       "      <th></th>\n",
       "      <th>Ram</th>\n",
       "      <th>Weight</th>\n",
       "      <th>Price</th>\n",
       "      <th>Touchscreen</th>\n",
       "      <th>Ips</th>\n",
       "      <th>HDD</th>\n",
       "      <th>SSD</th>\n",
       "    </tr>\n",
       "  </thead>\n",
       "  <tbody>\n",
       "    <tr>\n",
       "      <th>count</th>\n",
       "      <td>1302.000000</td>\n",
       "      <td>1302.000000</td>\n",
       "      <td>1302.000000</td>\n",
       "      <td>1302.000000</td>\n",
       "      <td>1302.00000</td>\n",
       "      <td>1302.000000</td>\n",
       "      <td>1302.000000</td>\n",
       "    </tr>\n",
       "    <tr>\n",
       "      <th>mean</th>\n",
       "      <td>8.385561</td>\n",
       "      <td>2.039416</td>\n",
       "      <td>59889.058673</td>\n",
       "      <td>0.146697</td>\n",
       "      <td>0.27957</td>\n",
       "      <td>414.101382</td>\n",
       "      <td>183.874040</td>\n",
       "    </tr>\n",
       "    <tr>\n",
       "      <th>std</th>\n",
       "      <td>5.085166</td>\n",
       "      <td>0.665274</td>\n",
       "      <td>37251.183866</td>\n",
       "      <td>0.353940</td>\n",
       "      <td>0.44896</td>\n",
       "      <td>515.889348</td>\n",
       "      <td>186.969314</td>\n",
       "    </tr>\n",
       "    <tr>\n",
       "      <th>min</th>\n",
       "      <td>2.000000</td>\n",
       "      <td>0.690000</td>\n",
       "      <td>9270.720000</td>\n",
       "      <td>0.000000</td>\n",
       "      <td>0.00000</td>\n",
       "      <td>0.000000</td>\n",
       "      <td>0.000000</td>\n",
       "    </tr>\n",
       "    <tr>\n",
       "      <th>1%</th>\n",
       "      <td>2.000000</td>\n",
       "      <td>0.970000</td>\n",
       "      <td>12201.120000</td>\n",
       "      <td>0.000000</td>\n",
       "      <td>0.00000</td>\n",
       "      <td>0.000000</td>\n",
       "      <td>0.000000</td>\n",
       "    </tr>\n",
       "    <tr>\n",
       "      <th>2%</th>\n",
       "      <td>4.000000</td>\n",
       "      <td>1.080200</td>\n",
       "      <td>13747.305600</td>\n",
       "      <td>0.000000</td>\n",
       "      <td>0.00000</td>\n",
       "      <td>0.000000</td>\n",
       "      <td>0.000000</td>\n",
       "    </tr>\n",
       "    <tr>\n",
       "      <th>3%</th>\n",
       "      <td>4.000000</td>\n",
       "      <td>1.100000</td>\n",
       "      <td>14811.323184</td>\n",
       "      <td>0.000000</td>\n",
       "      <td>0.00000</td>\n",
       "      <td>0.000000</td>\n",
       "      <td>0.000000</td>\n",
       "    </tr>\n",
       "    <tr>\n",
       "      <th>5%</th>\n",
       "      <td>4.000000</td>\n",
       "      <td>1.170000</td>\n",
       "      <td>16463.520000</td>\n",
       "      <td>0.000000</td>\n",
       "      <td>0.00000</td>\n",
       "      <td>0.000000</td>\n",
       "      <td>0.000000</td>\n",
       "    </tr>\n",
       "    <tr>\n",
       "      <th>50%</th>\n",
       "      <td>8.000000</td>\n",
       "      <td>2.040000</td>\n",
       "      <td>52107.840000</td>\n",
       "      <td>0.000000</td>\n",
       "      <td>0.00000</td>\n",
       "      <td>0.000000</td>\n",
       "      <td>256.000000</td>\n",
       "    </tr>\n",
       "    <tr>\n",
       "      <th>97%</th>\n",
       "      <td>16.000000</td>\n",
       "      <td>3.780000</td>\n",
       "      <td>144474.580800</td>\n",
       "      <td>1.000000</td>\n",
       "      <td>1.00000</td>\n",
       "      <td>1000.000000</td>\n",
       "      <td>512.000000</td>\n",
       "    </tr>\n",
       "    <tr>\n",
       "      <th>98%</th>\n",
       "      <td>16.000000</td>\n",
       "      <td>4.298000</td>\n",
       "      <td>152848.076256</td>\n",
       "      <td>1.000000</td>\n",
       "      <td>1.00000</td>\n",
       "      <td>2000.000000</td>\n",
       "      <td>512.000000</td>\n",
       "    </tr>\n",
       "    <tr>\n",
       "      <th>99%</th>\n",
       "      <td>32.000000</td>\n",
       "      <td>4.420000</td>\n",
       "      <td>167777.851536</td>\n",
       "      <td>1.000000</td>\n",
       "      <td>1.00000</td>\n",
       "      <td>2000.000000</td>\n",
       "      <td>1000.000000</td>\n",
       "    </tr>\n",
       "    <tr>\n",
       "      <th>max</th>\n",
       "      <td>64.000000</td>\n",
       "      <td>4.700000</td>\n",
       "      <td>324954.720000</td>\n",
       "      <td>1.000000</td>\n",
       "      <td>1.00000</td>\n",
       "      <td>2000.000000</td>\n",
       "      <td>1024.000000</td>\n",
       "    </tr>\n",
       "  </tbody>\n",
       "</table>\n",
       "</div>"
      ],
      "text/plain": [
       "               Ram       Weight          Price  Touchscreen         Ips  \\\n",
       "count  1302.000000  1302.000000    1302.000000  1302.000000  1302.00000   \n",
       "mean      8.385561     2.039416   59889.058673     0.146697     0.27957   \n",
       "std       5.085166     0.665274   37251.183866     0.353940     0.44896   \n",
       "min       2.000000     0.690000    9270.720000     0.000000     0.00000   \n",
       "1%        2.000000     0.970000   12201.120000     0.000000     0.00000   \n",
       "2%        4.000000     1.080200   13747.305600     0.000000     0.00000   \n",
       "3%        4.000000     1.100000   14811.323184     0.000000     0.00000   \n",
       "5%        4.000000     1.170000   16463.520000     0.000000     0.00000   \n",
       "50%       8.000000     2.040000   52107.840000     0.000000     0.00000   \n",
       "97%      16.000000     3.780000  144474.580800     1.000000     1.00000   \n",
       "98%      16.000000     4.298000  152848.076256     1.000000     1.00000   \n",
       "99%      32.000000     4.420000  167777.851536     1.000000     1.00000   \n",
       "max      64.000000     4.700000  324954.720000     1.000000     1.00000   \n",
       "\n",
       "               HDD          SSD  \n",
       "count  1302.000000  1302.000000  \n",
       "mean    414.101382   183.874040  \n",
       "std     515.889348   186.969314  \n",
       "min       0.000000     0.000000  \n",
       "1%        0.000000     0.000000  \n",
       "2%        0.000000     0.000000  \n",
       "3%        0.000000     0.000000  \n",
       "5%        0.000000     0.000000  \n",
       "50%       0.000000   256.000000  \n",
       "97%    1000.000000   512.000000  \n",
       "98%    2000.000000   512.000000  \n",
       "99%    2000.000000  1000.000000  \n",
       "max    2000.000000  1024.000000  "
      ]
     },
     "execution_count": 68,
     "metadata": {},
     "output_type": "execute_result"
    }
   ],
   "source": [
    "df.describe(percentiles=[0.01,0.02,0.03,0.05,0.97,0.98,0.99])"
   ]
  },
  {
   "cell_type": "code",
   "execution_count": 69,
   "id": "21f4d427",
   "metadata": {},
   "outputs": [
    {
     "data": {
      "image/png": "[encoded data removed]",
      "text/plain": [
       "<Figure size 432x288 with 1 Axes>"
      ]
     },
     "metadata": {
      "needs_background": "light"
     },
     "output_type": "display_data"
    }
   ],
   "source": [
    "sns.boxplot(x=df['Ram'])\n",
    "plt.show()"
   ]
  },
  {
   "cell_type": "code",
   "execution_count": 70,
   "id": "79e33fe4",
   "metadata": {},
   "outputs": [
    {
     "name": "stdout",
     "output_type": "stream",
     "text": [
      "(21, 12)\n"
     ]
    }
   ],
   "source": [
    "print(df[df['Ram']>20].shape)"
   ]
  },
  {
   "cell_type": "code",
   "execution_count": 73,
   "id": "da806ab7",
   "metadata": {},
   "outputs": [
    {
     "data": {
      "image/png": "[encoded data removed]",
      "text/plain": [
       "<Figure size 432x288 with 1 Axes>"
      ]
     },
     "metadata": {
      "needs_background": "light"
     },
     "output_type": "display_data"
    }
   ],
   "source": [
    "sns.boxplot(x=df['Weight'])\n",
    "plt.show()"
   ]
  },
  {
   "cell_type": "code",
   "execution_count": 77,
   "id": "9afc362e",
   "metadata": {},
   "outputs": [
    {
     "name": "stdout",
     "output_type": "stream",
     "text": [
      "(46, 12)\n"
     ]
    }
   ],
   "source": [
    "print(df[df['Weight']>3.5].shape)"
   ]
  },
  {
   "cell_type": "code",
   "execution_count": 78,
   "id": "17049b90",
   "metadata": {},
   "outputs": [
    {
     "data": {
      "image/png": "[encoded data removed]",
      "text/plain": [
       "<Figure size 432x288 with 1 Axes>"
      ]
     },
     "metadata": {
      "needs_background": "light"
     },
     "output_type": "display_data"
    }
   ],
   "source": [
    "sns.boxplot(x=df['Price'])\n",
    "plt.show()"
   ]
  },
  {
   "cell_type": "code",
   "execution_count": 80,
   "id": "2afd347b",
   "metadata": {},
   "outputs": [
    {
     "name": "stdout",
     "output_type": "stream",
     "text": [
      "(7, 12)\n"
     ]
    }
   ],
   "source": [
    "print(df[df['Price']>200000].shape)"
   ]
  },
  {
   "cell_type": "code",
   "execution_count": null,
   "id": "3accef3c",
   "metadata": {},
   "outputs": [],
   "source": [
    "#### Outlier handling"
   ]
  },
  {
   "cell_type": "code",
   "execution_count": 84,
   "id": "0564d49a",
   "metadata": {},
   "outputs": [],
   "source": [
    "df['Weight']= np.where(df['Weight']>3.5,3.8,df['Weight'])\n",
    "# df['Weight']= np.where(df['Weight']>3.5,3.5,df['Weight'])"
   ]
  },
  {
   "cell_type": "code",
   "execution_count": 85,
   "id": "f15944cb",
   "metadata": {},
   "outputs": [
    {
     "data": {
      "image/png": "[encoded data removed]",
      "text/plain": [
       "<Figure size 432x288 with 1 Axes>"
      ]
     },
     "metadata": {
      "needs_background": "light"
     },
     "output_type": "display_data"
    }
   ],
   "source": [
    "sns.boxplot(x=df['Weight'])\n",
    "plt.show()"
   ]
  },
  {
   "cell_type": "code",
   "execution_count": null,
   "id": "94efcd4c",
   "metadata": {},
   "outputs": [],
   "source": [
    "#### We will handle Encoding catgeorical columns using ColumnTransformer\n",
    "#### Select x(independent features) and y(dependent feature)"
   ]
  },
  {
   "cell_type": "code",
   "execution_count": 86,
   "id": "fb24d0df",
   "metadata": {},
   "outputs": [
    {
     "name": "stdout",
     "output_type": "stream",
     "text": [
      "<class 'pandas.core.frame.DataFrame'>\n",
      "<class 'pandas.core.series.Series'>\n",
      "(1302, 11)\n",
      "(1302,)\n"
     ]
    }
   ],
   "source": [
    "x = df.drop('Price',axis=1)\n",
    "y = df['Price']\n",
    "print(type(x))\n",
    "print(type(y))\n",
    "print(x.shape)\n",
    "print(y.shape)"
   ]
  },
  {
   "cell_type": "code",
   "execution_count": 87,
   "id": "bfad051d",
   "metadata": {},
   "outputs": [
    {
     "name": "stdout",
     "output_type": "stream",
     "text": [
      "325.5\n"
     ]
    }
   ],
   "source": [
    "print(1302*0.25)"
   ]
  },
  {
   "cell_type": "code",
   "execution_count": 89,
   "id": "ba5d3fda",
   "metadata": {},
   "outputs": [
    {
     "name": "stdout",
     "output_type": "stream",
     "text": [
      "(976, 11)\n",
      "(326, 11)\n",
      "(976,)\n",
      "(326,)\n"
     ]
    }
   ],
   "source": [
    "x_train,x_test,y_train,y_test = train_test_split(x,y,test_size=0.25,random_state=42)\n",
    "print(x_train.shape)\n",
    "print(x_test.shape)\n",
    "print(y_train.shape)\n",
    "print(y_test.shape)"
   ]
  },
  {
   "cell_type": "code",
   "execution_count": null,
   "id": "60b49240",
   "metadata": {},
   "outputs": [],
   "source": [
    "#### Create function to cpmute MSE, RMSE, MAE,Trai and Test Test Score"
   ]
  },
  {
   "cell_type": "code",
   "execution_count": 90,
   "id": "0eb623b8",
   "metadata": {},
   "outputs": [],
   "source": [
    "from sklearn.metrics import mean_squared_error,mean_absolute_error,r2_score"
   ]
  },
  {
   "cell_type": "code",
   "execution_count": 91,
   "id": "bf8d1273",
   "metadata": {},
   "outputs": [],
   "source": [
    "def eval_model(ytest,ypred):\n",
    "    mae = mean_absolute_error(ytest,ypred)\n",
    "    mse = mean_squared_error(ytest,ypred)\n",
    "    rmse = np.sqrt(mse)\n",
    "    r2s = r2_score(ytest,ypred)\n",
    "    print('MAE',mae)\n",
    "    print('MSE',mse)\n",
    "    print('RMSE',rmse)\n",
    "    print('R2 Score',r2s)"
   ]
  },
  {
   "cell_type": "code",
   "execution_count": 94,
   "id": "8e5e6446",
   "metadata": {},
   "outputs": [
    {
     "data": {
      "text/plain": [
       "Company         object\n",
       "TypeName        object\n",
       "Ram              int64\n",
       "Weight         float64\n",
       "Touchscreen      int64\n",
       "Ips              int64\n",
       "Cpu brand       object\n",
       "HDD              int64\n",
       "SSD              int64\n",
       "Gpu brand       object\n",
       "os              object\n",
       "dtype: object"
      ]
     },
     "execution_count": 94,
     "metadata": {},
     "output_type": "execute_result"
    }
   ],
   "source": [
    "x_train.dtypes"
   ]
  },
  {
   "cell_type": "code",
   "execution_count": 93,
   "id": "9ef6618e",
   "metadata": {},
   "outputs": [],
   "source": [
    "####Import ML model buliding libraries"
   ]
  },
  {
   "cell_type": "code",
   "execution_count": 100,
   "id": "4d91c41e",
   "metadata": {},
   "outputs": [],
   "source": [
    "from sklearn.linear_model import LinearRegression, Ridge, Lasso\n",
    "from sklearn.ensemble import RandomForestRegressor, AdaBoostRegressor\n",
    "from sklearn.tree import DecisionTreeRegressor\n",
    "from sklearn.neighbors import KNeighborsRegressor"
   ]
  },
  {
   "cell_type": "code",
   "execution_count": 101,
   "id": "58af7a3d",
   "metadata": {},
   "outputs": [],
   "source": [
    "from sklearn.preprocessing import OneHotEncoder\n",
    "from sklearn.compose import ColumnTransformer\n",
    "from sklearn.pipeline import Pipeline"
   ]
  },
  {
   "cell_type": "code",
   "execution_count": 95,
   "id": "55064c72",
   "metadata": {},
   "outputs": [],
   "source": [
    "# Columns index that needs to undergo OnehOtEncoding - [0,1,6,9,10]"
   ]
  },
  {
   "cell_type": "code",
   "execution_count": 105,
   "id": "760ea3d6",
   "metadata": {},
   "outputs": [],
   "source": [
    "#### 1) LinearRegression"
   ]
  },
  {
   "cell_type": "code",
   "execution_count": 106,
   "id": "a6f4716d",
   "metadata": {},
   "outputs": [
    {
     "name": "stdout",
     "output_type": "stream",
     "text": [
      "MAE 13796.786657940254\n",
      "MSE 442997220.94692487\n",
      "RMSE 21047.49916134753\n",
      "R2 Score 0.7015992587088653\n"
     ]
    },
    {
     "name": "stderr",
     "output_type": "stream",
     "text": [
      "C:\\Users\\dell\\anaconda3\\lib\\site-packages\\sklearn\\preprocessing\\_encoders.py:868: FutureWarning: `sparse` was renamed to `sparse_output` in version 1.2 and will be removed in 1.4. `sparse_output` is ignored unless you leave `sparse` to its default value.\n",
      "  warnings.warn(\n"
     ]
    }
   ],
   "source": [
    "step1 = ColumnTransformer(transformers=\n",
    "                        [('ohe',OneHotEncoder(drop='first',sparse=False),[0,1,6,9,10])],\n",
    "                              remainder='passthrough')\n",
    "step2 = LinearRegression()\n",
    "\n",
    "pipe_lr = Pipeline([('step1',step1),('step2',step2)])\n",
    "\n",
    "pipe_lr.fit(x_train,y_train)\n",
    "\n",
    "ypred_lr = pipe_lr.predict(x_test)\n",
    "\n",
    "eval_model(y_test,ypred_lr)"
   ]
  },
  {
   "cell_type": "code",
   "execution_count": 107,
   "id": "85c1249e",
   "metadata": {},
   "outputs": [],
   "source": [
    "#### 2) Ridge Regression "
   ]
  },
  {
   "cell_type": "code",
   "execution_count": 104,
   "id": "d322cccb",
   "metadata": {},
   "outputs": [
    {
     "name": "stderr",
     "output_type": "stream",
     "text": [
      "C:\\Users\\dell\\anaconda3\\lib\\site-packages\\sklearn\\preprocessing\\_encoders.py:868: FutureWarning: `sparse` was renamed to `sparse_output` in version 1.2 and will be removed in 1.4. `sparse_output` is ignored unless you leave `sparse` to its default value.\n",
      "  warnings.warn(\n"
     ]
    },
    {
     "name": "stdout",
     "output_type": "stream",
     "text": [
      "MAE 13551.231029099019\n",
      "MSE 413134479.50398004\n",
      "RMSE 20325.709815501647\n",
      "R2 Score 0.7217146539353014\n"
     ]
    }
   ],
   "source": [
    "step1 = ColumnTransformer(transformers=\n",
    "                          [('ohe',OneHotEncoder(drop='first',sparse=False),[0,1,6,9,10])],\n",
    "                              remainder='passthrough')\n",
    "step2 = Ridge(alpha=2.41)\n",
    "\n",
    "pipe_rid = Pipeline([('step1',step1),('step2',step2)])\n",
    "\n",
    "pipe_rid.fit(x_train,y_train)\n",
    "\n",
    "ypred_rid = pipe_rid.predict(x_test)\n",
    "\n",
    "eval_model(y_test,ypred_rid)"
   ]
  },
  {
   "cell_type": "code",
   "execution_count": 108,
   "id": "ed77b9e5",
   "metadata": {},
   "outputs": [],
   "source": [
    "#### 3) Lasso Regression"
   ]
  },
  {
   "cell_type": "code",
   "execution_count": 109,
   "id": "edbba660",
   "metadata": {},
   "outputs": [
    {
     "name": "stdout",
     "output_type": "stream",
     "text": [
      "MAE 13793.626488734186\n",
      "MSE 442820465.9505969\n",
      "RMSE 21043.299787595028\n",
      "R2 Score 0.7017183200018875\n"
     ]
    },
    {
     "name": "stderr",
     "output_type": "stream",
     "text": [
      "C:\\Users\\dell\\anaconda3\\lib\\site-packages\\sklearn\\preprocessing\\_encoders.py:868: FutureWarning: `sparse` was renamed to `sparse_output` in version 1.2 and will be removed in 1.4. `sparse_output` is ignored unless you leave `sparse` to its default value.\n",
      "  warnings.warn(\n"
     ]
    }
   ],
   "source": [
    "step1 = ColumnTransformer(transformers=\n",
    "                          [('ohe',OneHotEncoder(drop='first',sparse=False),[0,1,6,9,10])],\n",
    "                              remainder='passthrough')\n",
    "step2 = Lasso(alpha=0.234)\n",
    "\n",
    "pipe_las = Pipeline([('step1',step1),('step2',step2)])\n",
    "\n",
    "pipe_las.fit(x_train,y_train)\n",
    "\n",
    "ypred_las = pipe_las.predict(x_test)\n",
    "\n",
    "eval_model(y_test,ypred_las)"
   ]
  },
  {
   "cell_type": "code",
   "execution_count": 110,
   "id": "e3998e62",
   "metadata": {},
   "outputs": [],
   "source": [
    "#### 4) RandomForest Model"
   ]
  },
  {
   "cell_type": "code",
   "execution_count": 114,
   "id": "fe08cd4c",
   "metadata": {},
   "outputs": [
    {
     "name": "stderr",
     "output_type": "stream",
     "text": [
      "C:\\Users\\dell\\anaconda3\\lib\\site-packages\\sklearn\\preprocessing\\_encoders.py:868: FutureWarning: `sparse` was renamed to `sparse_output` in version 1.2 and will be removed in 1.4. `sparse_output` is ignored unless you leave `sparse` to its default value.\n",
      "  warnings.warn(\n"
     ]
    },
    {
     "name": "stdout",
     "output_type": "stream",
     "text": [
      "MAE 11636.105193003952\n",
      "MSE 344254119.00462\n",
      "RMSE 18554.086315543\n",
      "R2 Score 0.7681121247579732\n"
     ]
    }
   ],
   "source": [
    "step1 = ColumnTransformer(transformers=\n",
    "                         [('ohe',OneHotEncoder(drop='first',sparse=False),[0,1,6,9,10])],\n",
    "                          remainder='passthrough')\n",
    "step2 = RandomForestRegressor(n_estimators=100,max_depth=8,min_samples_split=11,random_state=5)\n",
    "\n",
    "pipe_rf = Pipeline([('step1',step1),('step2',step2)])\n",
    "\n",
    "pipe_rf.fit(x_train,y_train)\n",
    "\n",
    "ypred_rf = pipe_rf.predict(x_test)\n",
    "\n",
    "eval_model(y_test,ypred_rf)"
   ]
  },
  {
   "cell_type": "code",
   "execution_count": 116,
   "id": "f703b6b3",
   "metadata": {},
   "outputs": [],
   "source": [
    "#### 5) Decision Tree Regressor"
   ]
  },
  {
   "cell_type": "code",
   "execution_count": 117,
   "id": "d167a97a",
   "metadata": {},
   "outputs": [
    {
     "name": "stdout",
     "output_type": "stream",
     "text": [
      "MAE 11924.936422152501\n",
      "MSE 323653916.88587874\n",
      "RMSE 17990.384011629067\n",
      "R2 Score 0.7819883192177034\n"
     ]
    },
    {
     "name": "stderr",
     "output_type": "stream",
     "text": [
      "C:\\Users\\dell\\anaconda3\\lib\\site-packages\\sklearn\\preprocessing\\_encoders.py:868: FutureWarning: `sparse` was renamed to `sparse_output` in version 1.2 and will be removed in 1.4. `sparse_output` is ignored unless you leave `sparse` to its default value.\n",
      "  warnings.warn(\n"
     ]
    }
   ],
   "source": [
    "step1 = ColumnTransformer(transformers=\n",
    "                          [('ohe',OneHotEncoder(drop='first',sparse=False),[0,1,6,9,10])],\n",
    "                              remainder='passthrough')\n",
    "step2 = DecisionTreeRegressor(max_depth=8,min_samples_split=11,random_state=5)\n",
    "\n",
    "pipe_dt = Pipeline([('step1',step1),('step2',step2)])\n",
    "\n",
    "pipe_dt.fit(x_train,y_train)\n",
    "\n",
    "ypred_dt = pipe_dt.predict(x_test)\n",
    "\n",
    "eval_model(y_test,ypred_dt)"
   ]
  },
  {
   "cell_type": "code",
   "execution_count": 118,
   "id": "faae9744",
   "metadata": {},
   "outputs": [],
   "source": [
    "#### DT is the best performing model based on RMSE"
   ]
  },
  {
   "cell_type": "code",
   "execution_count": 119,
   "id": "2fe1a193",
   "metadata": {},
   "outputs": [],
   "source": [
    "#### Model saving"
   ]
  },
  {
   "cell_type": "code",
   "execution_count": 120,
   "id": "57a0f00a",
   "metadata": {},
   "outputs": [],
   "source": [
    "import pickle"
   ]
  },
  {
   "cell_type": "code",
   "execution_count": 121,
   "id": "3751d375",
   "metadata": {},
   "outputs": [],
   "source": [
    "pickle.dump(pipe_dt,open('dt_model.pkl','wb'))\n",
    "pickle.dump(df,open('data.pkl','wb'))"
   ]
  },
  {
   "cell_type": "code",
   "execution_count": 122,
   "id": "15c3c865",
   "metadata": {},
   "outputs": [
    {
     "name": "stdout",
     "output_type": "stream",
     "text": [
      "[   0  500 1000 2000   32  128]\n",
      "[ 128    0  256  512   32   64 1000 1024   16  768  180  240    8]\n",
      "[ 8 16  4  2 12  6 32 24 64]\n"
     ]
    }
   ],
   "source": [
    "print(df['HDD'].unique())\n",
    "print(df['SSD'].unique())\n",
    "print(df['Ram'].unique())"
   ]
  },
  {
   "cell_type": "code",
   "execution_count": 123,
   "id": "8ef7df20",
   "metadata": {},
   "outputs": [
    {
     "data": {
      "text/plain": [
       "0    938\n",
       "1    364\n",
       "Name: Ips, dtype: int64"
      ]
     },
     "execution_count": 123,
     "metadata": {},
     "output_type": "execute_result"
    }
   ],
   "source": [
    "df['Ips'].value_counts()"
   ]
  },
  {
   "cell_type": "code",
   "execution_count": null,
   "id": "cd95b6ab",
   "metadata": {},
   "outputs": [],
   "source": []
  }
 ],
 "metadata": {
  "kernelspec": {
   "display_name": "Python 3 (ipykernel)",
   "language": "python",
   "name": "python3"
  },
  "language_info": {
   "codemirror_mode": {
    "name": "ipython",
    "version": 3
   },
   "file_extension": ".py",
   "mimetype": "text/x-python",
   "name": "python",
   "nbconvert_exporter": "python",
   "pygments_lexer": "ipython3",
   "version": "3.9.12"
  }
 },
 "nbformat": 4,
 "nbformat_minor": 5
}
